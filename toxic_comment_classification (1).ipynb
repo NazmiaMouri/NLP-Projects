{
  "nbformat": 4,
  "nbformat_minor": 0,
  "metadata": {
    "colab": {
      "name": "toxic_comment_classification.ipynb",
      "provenance": [],
      "collapsed_sections": [],
      "toc_visible": true,
      "machine_shape": "hm"
    },
    "kernelspec": {
      "name": "python3",
      "display_name": "Python 3"
    },
    "accelerator": "GPU"
  },
  "cells": [
    {
      "cell_type": "code",
      "metadata": {
        "id": "_AWwBjCXCSO0",
        "colab_type": "code",
        "outputId": "310c1f32-b54f-43b2-9ef5-7d816865d9fc",
        "colab": {
          "base_uri": "https://localhost:8080/",
          "height": 92
        }
      },
      "source": [
        "from google.colab import drive\n",
        "drive.mount('/content/drive')\n",
        "%cd drive/My Drive"
      ],
      "execution_count": 0,
      "outputs": [
        {
          "output_type": "stream",
          "text": [
            "Drive already mounted at /content/drive; to attempt to forcibly remount, call drive.mount(\"/content/drive\", force_remount=True).\n",
            "[Errno 2] No such file or directory: 'drive/My Drive'\n",
            "/content/drive/My Drive\n"
          ],
          "name": "stdout"
        }
      ]
    },
    {
      "cell_type": "markdown",
      "metadata": {
        "id": "ICquijPRmdkw",
        "colab_type": "text"
      },
      "source": [
        "# **Importing libraries**"
      ]
    },
    {
      "cell_type": "code",
      "metadata": {
        "id": "oWiUpqlaDX3i",
        "colab_type": "code",
        "outputId": "b2104b7e-c635-480d-ba19-0c9981f9c2f1",
        "colab": {
          "base_uri": "https://localhost:8080/",
          "height": 510
        }
      },
      "source": [
        "\n",
        "!pip install textblob\n",
        "from textblob import TextBlob\n",
        "import pandas as pd\n",
        "import numpy as np\n",
        "import re\n",
        "import string\n",
        "import nltk\n",
        "\n",
        "nltk.download('punkt')\n",
        "nltk.download('wordnet')\n",
        "\n",
        "nltk.download('stopwords')\n",
        "from nltk.corpus import stopwords \n",
        "from nltk.stem import WordNetLemmatizer\n",
        "from nltk.corpus import wordnet as wn\n",
        "from nltk import word_tokenize, pos_tag\n",
        "\n",
        "!pip install langdetect\n",
        "\n",
        "from sklearn.model_selection import train_test_split\n",
        "\n",
        "import matplotlib.pyplot as plt \n",
        "import pickle\n"
      ],
      "execution_count": 0,
      "outputs": [
        {
          "output_type": "stream",
          "text": [
            "Requirement already satisfied: textblob in /usr/local/lib/python3.6/dist-packages (0.15.3)\n",
            "Requirement already satisfied: nltk>=3.1 in /usr/local/lib/python3.6/dist-packages (from textblob) (3.2.5)\n",
            "Requirement already satisfied: six in /usr/local/lib/python3.6/dist-packages (from nltk>=3.1->textblob) (1.12.0)\n",
            "[nltk_data] Downloading package punkt to /root/nltk_data...\n",
            "[nltk_data]   Package punkt is already up-to-date!\n",
            "[nltk_data] Downloading package wordnet to /root/nltk_data...\n",
            "[nltk_data]   Package wordnet is already up-to-date!\n",
            "[nltk_data] Downloading package averaged_perceptron_tagger to\n",
            "[nltk_data]     /root/nltk_data...\n",
            "[nltk_data]   Package averaged_perceptron_tagger is already up-to-\n",
            "[nltk_data]       date!\n",
            "[nltk_data] Downloading package stopwords to /root/nltk_data...\n",
            "[nltk_data]   Package stopwords is already up-to-date!\n",
            "Requirement already satisfied: langdetect in /usr/local/lib/python3.6/dist-packages (1.0.8)\n",
            "Requirement already satisfied: six in /usr/local/lib/python3.6/dist-packages (from langdetect) (1.12.0)\n",
            "Name: tensorflow\n",
            "Version: 2.2.0\n",
            "Summary: TensorFlow is an open source machine learning framework for everyone.\n",
            "Home-page: https://www.tensorflow.org/\n",
            "Author: Google Inc.\n",
            "Author-email: packages@tensorflow.org\n",
            "License: Apache 2.0\n",
            "Location: /usr/local/lib/python3.6/dist-packages\n",
            "Requires: wheel, grpcio, numpy, google-pasta, astunparse, scipy, gast, tensorboard, absl-py, opt-einsum, termcolor, six, tensorflow-estimator, h5py, protobuf, keras-preprocessing, wrapt\n",
            "Required-by: fancyimpute\n",
            "Requirement already up-to-date: tensorboardcolab in /usr/local/lib/python3.6/dist-packages (0.0.22)\n"
          ],
          "name": "stdout"
        }
      ]
    },
    {
      "cell_type": "markdown",
      "metadata": {
        "id": "iRMhiG0rmrNl",
        "colab_type": "text"
      },
      "source": [
        "# **Loading csv**"
      ]
    },
    {
      "cell_type": "code",
      "metadata": {
        "id": "l6Bh7rMfDYIG",
        "colab_type": "code",
        "colab": {}
      },
      "source": [
        "train_data_path='kaggle/jigsaw-toxic-comment-classification-challenge/train.csv'\n",
        "\n",
        "\n",
        "train = pd.read_csv(train_data_path,encoding='utf-8')\n",
        "test = pd.read_csv('kaggle/jigsaw-toxic-comment-classification-challenge/test.csv',encoding='utf-8')"
      ],
      "execution_count": 0,
      "outputs": []
    },
    {
      "cell_type": "code",
      "metadata": {
        "id": "DtpNhWjTFozV",
        "colab_type": "code",
        "outputId": "8b3c758c-3a91-41e9-f258-84fa1bf25d3e",
        "colab": {
          "base_uri": "https://localhost:8080/",
          "height": 617
        }
      },
      "source": [
        "import matplotlib.pyplot as plt\n",
        "%matplotlib inline\n",
        "\n",
        "train.hist(bins=50,figsize=(20,15))\n",
        "plt.show()"
      ],
      "execution_count": 0,
      "outputs": [
        {
          "output_type": "display_data",
          "data": {
            "image/png": "[encoded data removed]",
            "text/plain": [
              "<Figure size 1440x1080 with 6 Axes>"
            ]
          },
          "metadata": {
            "tags": [],
            "needs_background": "light"
          }
        }
      ]
    },
    {
      "cell_type": "code",
      "metadata": {
        "id": "63FhshWMF97K",
        "colab_type": "code",
        "outputId": "e8b7dfd1-e6cf-41f0-9782-4b8af572be92",
        "colab": {
          "base_uri": "https://localhost:8080/",
          "height": 145
        }
      },
      "source": [
        "corr_matrix=train.corr()\n",
        "corr_matrix['toxic'].sort_values(ascending=False)"
      ],
      "execution_count": 0,
      "outputs": [
        {
          "output_type": "execute_result",
          "data": {
            "text/plain": [
              "toxic            1.000000\n",
              "obscene          0.676515\n",
              "insult           0.647518\n",
              "severe_toxic     0.308619\n",
              "identity_hate    0.266009\n",
              "threat           0.157058\n",
              "Name: toxic, dtype: float64"
            ]
          },
          "metadata": {
            "tags": []
          },
          "execution_count": 19
        }
      ]
    },
    {
      "cell_type": "code",
      "metadata": {
        "id": "L5C3sBarEK8h",
        "colab_type": "code",
        "outputId": "dfc992f1-7aee-4f4f-a70c-64fc04b7a14f",
        "colab": {
          "base_uri": "https://localhost:8080/",
          "height": 632
        }
      },
      "source": [
        "train_data=train[:500]\n",
        "train_data"
      ],
      "execution_count": 0,
      "outputs": [
        {
          "output_type": "execute_result",
          "data": {
            "text/html": [
              "<div>\n",
              "<style scoped>\n",
              "    .dataframe tbody tr th:only-of-type {\n",
              "        vertical-align: middle;\n",
              "    }\n",
              "\n",
              "    .dataframe tbody tr th {\n",
              "        vertical-align: top;\n",
              "    }\n",
              "\n",
              "    .dataframe thead th {\n",
              "        text-align: right;\n",
              "    }\n",
              "</style>\n",
              "<table border=\"1\" class=\"dataframe\">\n",
              "  <thead>\n",
              "    <tr style=\"text-align: right;\">\n",
              "      <th></th>\n",
              "      <th>id</th>\n",
              "      <th>comment_text</th>\n",
              "      <th>toxic</th>\n",
              "      <th>severe_toxic</th>\n",
              "      <th>obscene</th>\n",
              "      <th>threat</th>\n",
              "      <th>insult</th>\n",
              "      <th>identity_hate</th>\n",
              "    </tr>\n",
              "  </thead>\n",
              "  <tbody>\n",
              "    <tr>\n",
              "      <th>0</th>\n",
              "      <td>0000997932d777bf</td>\n",
              "      <td>Explanation\\nWhy the edits made under my usern...</td>\n",
              "      <td>0</td>\n",
              "      <td>0</td>\n",
              "      <td>0</td>\n",
              "      <td>0</td>\n",
              "      <td>0</td>\n",
              "      <td>0</td>\n",
              "    </tr>\n",
              "    <tr>\n",
              "      <th>1</th>\n",
              "      <td>000103f0d9cfb60f</td>\n",
              "      <td>D'aww! He matches this background colour I'm s...</td>\n",
              "      <td>0</td>\n",
              "      <td>0</td>\n",
              "      <td>0</td>\n",
              "      <td>0</td>\n",
              "      <td>0</td>\n",
              "      <td>0</td>\n",
              "    </tr>\n",
              "    <tr>\n",
              "      <th>2</th>\n",
              "      <td>000113f07ec002fd</td>\n",
              "      <td>Hey man, I'm really not trying to edit war. It...</td>\n",
              "      <td>0</td>\n",
              "      <td>0</td>\n",
              "      <td>0</td>\n",
              "      <td>0</td>\n",
              "      <td>0</td>\n",
              "      <td>0</td>\n",
              "    </tr>\n",
              "    <tr>\n",
              "      <th>3</th>\n",
              "      <td>0001b41b1c6bb37e</td>\n",
              "      <td>\"\\nMore\\nI can't make any real suggestions on ...</td>\n",
              "      <td>0</td>\n",
              "      <td>0</td>\n",
              "      <td>0</td>\n",
              "      <td>0</td>\n",
              "      <td>0</td>\n",
              "      <td>0</td>\n",
              "    </tr>\n",
              "    <tr>\n",
              "      <th>4</th>\n",
              "      <td>0001d958c54c6e35</td>\n",
              "      <td>You, sir, are my hero. Any chance you remember...</td>\n",
              "      <td>0</td>\n",
              "      <td>0</td>\n",
              "      <td>0</td>\n",
              "      <td>0</td>\n",
              "      <td>0</td>\n",
              "      <td>0</td>\n",
              "    </tr>\n",
              "    <tr>\n",
              "      <th>...</th>\n",
              "      <td>...</td>\n",
              "      <td>...</td>\n",
              "      <td>...</td>\n",
              "      <td>...</td>\n",
              "      <td>...</td>\n",
              "      <td>...</td>\n",
              "      <td>...</td>\n",
              "      <td>...</td>\n",
              "    </tr>\n",
              "    <tr>\n",
              "      <th>495</th>\n",
              "      <td>014b44616d8cb457</td>\n",
              "      <td>Sarek of Vulcan: Unfortunately for you, you ca...</td>\n",
              "      <td>0</td>\n",
              "      <td>0</td>\n",
              "      <td>0</td>\n",
              "      <td>0</td>\n",
              "      <td>0</td>\n",
              "      <td>0</td>\n",
              "    </tr>\n",
              "    <tr>\n",
              "      <th>496</th>\n",
              "      <td>014bb932bd289352</td>\n",
              "      <td>Keep your chin up! Darwinism was not accepted ...</td>\n",
              "      <td>0</td>\n",
              "      <td>0</td>\n",
              "      <td>0</td>\n",
              "      <td>0</td>\n",
              "      <td>0</td>\n",
              "      <td>0</td>\n",
              "    </tr>\n",
              "    <tr>\n",
              "      <th>497</th>\n",
              "      <td>014c96f873db11ff</td>\n",
              "      <td>\"\"\"Nazi filth\"\" is impolite  04:27, 20 Jan 200...</td>\n",
              "      <td>1</td>\n",
              "      <td>0</td>\n",
              "      <td>0</td>\n",
              "      <td>0</td>\n",
              "      <td>1</td>\n",
              "      <td>0</td>\n",
              "    </tr>\n",
              "    <tr>\n",
              "      <th>498</th>\n",
              "      <td>014d00c8f2a76df4</td>\n",
              "      <td>Interesting. I checked the other case number K...</td>\n",
              "      <td>0</td>\n",
              "      <td>0</td>\n",
              "      <td>0</td>\n",
              "      <td>0</td>\n",
              "      <td>0</td>\n",
              "      <td>0</td>\n",
              "    </tr>\n",
              "    <tr>\n",
              "      <th>499</th>\n",
              "      <td>014f50b1f448cb2d</td>\n",
              "      <td>The transcluded part of the GA review doesn't ...</td>\n",
              "      <td>0</td>\n",
              "      <td>0</td>\n",
              "      <td>0</td>\n",
              "      <td>0</td>\n",
              "      <td>0</td>\n",
              "      <td>0</td>\n",
              "    </tr>\n",
              "  </tbody>\n",
              "</table>\n",
              "<p>500 rows × 8 columns</p>\n",
              "</div>"
            ],
            "text/plain": [
              "                   id  ... identity_hate\n",
              "0    0000997932d777bf  ...             0\n",
              "1    000103f0d9cfb60f  ...             0\n",
              "2    000113f07ec002fd  ...             0\n",
              "3    0001b41b1c6bb37e  ...             0\n",
              "4    0001d958c54c6e35  ...             0\n",
              "..                ...  ...           ...\n",
              "495  014b44616d8cb457  ...             0\n",
              "496  014bb932bd289352  ...             0\n",
              "497  014c96f873db11ff  ...             0\n",
              "498  014d00c8f2a76df4  ...             0\n",
              "499  014f50b1f448cb2d  ...             0\n",
              "\n",
              "[500 rows x 8 columns]"
            ]
          },
          "metadata": {
            "tags": []
          },
          "execution_count": 20
        }
      ]
    },
    {
      "cell_type": "code",
      "metadata": {
        "id": "eH-Ojv1rENUR",
        "colab_type": "code",
        "outputId": "d5222b8e-6745-436e-e05d-d1107e230231",
        "colab": {
          "base_uri": "https://localhost:8080/",
          "height": 605
        }
      },
      "source": [
        "train_data.drop(['id'],axis=1,inplace=True)\n",
        "train_data"
      ],
      "execution_count": 0,
      "outputs": [
        {
          "output_type": "stream",
          "text": [
            "/usr/local/lib/python3.6/dist-packages/pandas/core/frame.py:3997: SettingWithCopyWarning: \n",
            "A value is trying to be set on a copy of a slice from a DataFrame\n",
            "\n",
            "See the caveats in the documentation: https://pandas.pydata.org/pandas-docs/stable/user_guide/indexing.html#returning-a-view-versus-a-copy\n",
            "  errors=errors,\n"
          ],
          "name": "stderr"
        },
        {
          "output_type": "execute_result",
          "data": {
            "text/html": [
              "<div>\n",
              "<style scoped>\n",
              "    .dataframe tbody tr th:only-of-type {\n",
              "        vertical-align: middle;\n",
              "    }\n",
              "\n",
              "    .dataframe tbody tr th {\n",
              "        vertical-align: top;\n",
              "    }\n",
              "\n",
              "    .dataframe thead th {\n",
              "        text-align: right;\n",
              "    }\n",
              "</style>\n",
              "<table border=\"1\" class=\"dataframe\">\n",
              "  <thead>\n",
              "    <tr style=\"text-align: right;\">\n",
              "      <th></th>\n",
              "      <th>comment_text</th>\n",
              "      <th>toxic</th>\n",
              "      <th>severe_toxic</th>\n",
              "      <th>obscene</th>\n",
              "      <th>threat</th>\n",
              "      <th>insult</th>\n",
              "      <th>identity_hate</th>\n",
              "    </tr>\n",
              "  </thead>\n",
              "  <tbody>\n",
              "    <tr>\n",
              "      <th>0</th>\n",
              "      <td>Explanation\\nWhy the edits made under my usern...</td>\n",
              "      <td>0</td>\n",
              "      <td>0</td>\n",
              "      <td>0</td>\n",
              "      <td>0</td>\n",
              "      <td>0</td>\n",
              "      <td>0</td>\n",
              "    </tr>\n",
              "    <tr>\n",
              "      <th>1</th>\n",
              "      <td>D'aww! He matches this background colour I'm s...</td>\n",
              "      <td>0</td>\n",
              "      <td>0</td>\n",
              "      <td>0</td>\n",
              "      <td>0</td>\n",
              "      <td>0</td>\n",
              "      <td>0</td>\n",
              "    </tr>\n",
              "    <tr>\n",
              "      <th>2</th>\n",
              "      <td>Hey man, I'm really not trying to edit war. It...</td>\n",
              "      <td>0</td>\n",
              "      <td>0</td>\n",
              "      <td>0</td>\n",
              "      <td>0</td>\n",
              "      <td>0</td>\n",
              "      <td>0</td>\n",
              "    </tr>\n",
              "    <tr>\n",
              "      <th>3</th>\n",
              "      <td>\"\\nMore\\nI can't make any real suggestions on ...</td>\n",
              "      <td>0</td>\n",
              "      <td>0</td>\n",
              "      <td>0</td>\n",
              "      <td>0</td>\n",
              "      <td>0</td>\n",
              "      <td>0</td>\n",
              "    </tr>\n",
              "    <tr>\n",
              "      <th>4</th>\n",
              "      <td>You, sir, are my hero. Any chance you remember...</td>\n",
              "      <td>0</td>\n",
              "      <td>0</td>\n",
              "      <td>0</td>\n",
              "      <td>0</td>\n",
              "      <td>0</td>\n",
              "      <td>0</td>\n",
              "    </tr>\n",
              "    <tr>\n",
              "      <th>...</th>\n",
              "      <td>...</td>\n",
              "      <td>...</td>\n",
              "      <td>...</td>\n",
              "      <td>...</td>\n",
              "      <td>...</td>\n",
              "      <td>...</td>\n",
              "      <td>...</td>\n",
              "    </tr>\n",
              "    <tr>\n",
              "      <th>495</th>\n",
              "      <td>Sarek of Vulcan: Unfortunately for you, you ca...</td>\n",
              "      <td>0</td>\n",
              "      <td>0</td>\n",
              "      <td>0</td>\n",
              "      <td>0</td>\n",
              "      <td>0</td>\n",
              "      <td>0</td>\n",
              "    </tr>\n",
              "    <tr>\n",
              "      <th>496</th>\n",
              "      <td>Keep your chin up! Darwinism was not accepted ...</td>\n",
              "      <td>0</td>\n",
              "      <td>0</td>\n",
              "      <td>0</td>\n",
              "      <td>0</td>\n",
              "      <td>0</td>\n",
              "      <td>0</td>\n",
              "    </tr>\n",
              "    <tr>\n",
              "      <th>497</th>\n",
              "      <td>\"\"\"Nazi filth\"\" is impolite  04:27, 20 Jan 200...</td>\n",
              "      <td>1</td>\n",
              "      <td>0</td>\n",
              "      <td>0</td>\n",
              "      <td>0</td>\n",
              "      <td>1</td>\n",
              "      <td>0</td>\n",
              "    </tr>\n",
              "    <tr>\n",
              "      <th>498</th>\n",
              "      <td>Interesting. I checked the other case number K...</td>\n",
              "      <td>0</td>\n",
              "      <td>0</td>\n",
              "      <td>0</td>\n",
              "      <td>0</td>\n",
              "      <td>0</td>\n",
              "      <td>0</td>\n",
              "    </tr>\n",
              "    <tr>\n",
              "      <th>499</th>\n",
              "      <td>The transcluded part of the GA review doesn't ...</td>\n",
              "      <td>0</td>\n",
              "      <td>0</td>\n",
              "      <td>0</td>\n",
              "      <td>0</td>\n",
              "      <td>0</td>\n",
              "      <td>0</td>\n",
              "    </tr>\n",
              "  </tbody>\n",
              "</table>\n",
              "<p>500 rows × 7 columns</p>\n",
              "</div>"
            ],
            "text/plain": [
              "                                          comment_text  ...  identity_hate\n",
              "0    Explanation\\nWhy the edits made under my usern...  ...              0\n",
              "1    D'aww! He matches this background colour I'm s...  ...              0\n",
              "2    Hey man, I'm really not trying to edit war. It...  ...              0\n",
              "3    \"\\nMore\\nI can't make any real suggestions on ...  ...              0\n",
              "4    You, sir, are my hero. Any chance you remember...  ...              0\n",
              "..                                                 ...  ...            ...\n",
              "495  Sarek of Vulcan: Unfortunately for you, you ca...  ...              0\n",
              "496  Keep your chin up! Darwinism was not accepted ...  ...              0\n",
              "497  \"\"\"Nazi filth\"\" is impolite  04:27, 20 Jan 200...  ...              0\n",
              "498  Interesting. I checked the other case number K...  ...              0\n",
              "499  The transcluded part of the GA review doesn't ...  ...              0\n",
              "\n",
              "[500 rows x 7 columns]"
            ]
          },
          "metadata": {
            "tags": []
          },
          "execution_count": 21
        }
      ]
    },
    {
      "cell_type": "code",
      "metadata": {
        "id": "bsXNLB6irHCK",
        "colab_type": "code",
        "colab": {}
      },
      "source": [
        "\n",
        "test_data=test[:500]\n"
      ],
      "execution_count": 0,
      "outputs": []
    },
    {
      "cell_type": "code",
      "metadata": {
        "id": "TGQj9th6HXzC",
        "colab_type": "code",
        "colab": {}
      },
      "source": [
        ""
      ],
      "execution_count": 0,
      "outputs": []
    },
    {
      "cell_type": "code",
      "metadata": {
        "id": "-iYvSYpbu1LU",
        "colab_type": "code",
        "outputId": "9c99376f-2244-4307-9a82-5fe5ad03e55e",
        "colab": {
          "base_uri": "https://localhost:8080/",
          "height": 272
        }
      },
      "source": [
        "print(test_data)\n"
      ],
      "execution_count": 0,
      "outputs": [
        {
          "output_type": "stream",
          "text": [
            "                   id                                       comment_text\n",
            "0    00001cee341fdb12  Yo bitch Ja Rule is more succesful then you'll...\n",
            "1    0000247867823ef7  == From RfC == \\n\\n The title is fine as it is...\n",
            "2    00013b17ad220c46  \" \\n\\n == Sources == \\n\\n * Zawe Ashton on Lap...\n",
            "3    00017563c3f7919a  :If you have a look back at the source, the in...\n",
            "4    00017695ad8997eb          I don't anonymously edit articles at all.\n",
            "..                ...                                                ...\n",
            "495  00cf862de0929a0d          vivek is a bad boy \\n\\n > B.Tech graduate\n",
            "496  00cf8932eb2dcdcc  == hmong people only == \\n\\n      i rock for b...\n",
            "497  00cfd946fcc6f8ed  someone keeps editing this page and changing t...\n",
            "498  00d06c6557280d2f  P.S. I've never seen birth and death dates for...\n",
            "499  00d08307c9439df8                        This dude sucks donkey dick\n",
            "\n",
            "[500 rows x 2 columns]\n"
          ],
          "name": "stdout"
        }
      ]
    },
    {
      "cell_type": "markdown",
      "metadata": {
        "id": "AZD3brrzmwuU",
        "colab_type": "text"
      },
      "source": [
        "# **Cleaning data(removing punctuation, url**"
      ]
    },
    {
      "cell_type": "code",
      "metadata": {
        "id": "_Z_JsN8eoVQ4",
        "colab_type": "code",
        "colab": {}
      },
      "source": [
        "def clean_data(all_comment):\n",
        "  clean_comment=[]\n",
        "  for input_text in all_comment:\n",
        "    #removing URL\n",
        "    input_text=re.sub(r'http\\S+','',input_text)\n",
        "    #removing digits\n",
        "    input_text=re.sub(r'\\d*','',input_text)\n",
        "    #removing punctuation\n",
        "    punctuation = '!\"#$%&()*+-/:;<=>?@[\\\\]^_`{|}~\\,.'\n",
        "    input_text=''.join(ch for ch in input_text if ch not in set(punctuation))\n",
        "    #converting in lower case\n",
        "    input_text=input_text.lower()\n",
        "    # removing whitespace, newline'''\n",
        "    input_text=re.sub(r'\\n',' ',input_text)\n",
        "    input_text=re.sub(r'\\t',' ',input_text)\n",
        "    input_text=' '.join(input_text.split())\n",
        "    clean_comment.append(input_text)\n",
        "  return clean_comment"
      ],
      "execution_count": 0,
      "outputs": []
    },
    {
      "cell_type": "markdown",
      "metadata": {
        "id": "_kOwFLezqD-i",
        "colab_type": "text"
      },
      "source": [
        "# **spell checkr**"
      ]
    },
    {
      "cell_type": "code",
      "metadata": {
        "id": "NI7XnrArbSwH",
        "colab_type": "code",
        "colab": {}
      },
      "source": [
        "\n",
        "def spell_checker(input_text):\n",
        "    for x in input_text:\n",
        "        text=TextBlob(x)\n",
        "        txt=pd.Series(text.correct())\n",
        "        input_text.append(txt)\n",
        "    return input_text"
      ],
      "execution_count": 0,
      "outputs": []
    },
    {
      "cell_type": "code",
      "metadata": {
        "id": "PXoSrkEWagWN",
        "colab_type": "code",
        "colab": {}
      },
      "source": [
        "def contradiction(all_comment):\n",
        "  comment=[]\n",
        "  for all_str in all_comment:\n",
        "        all_str = re.sub(r\"\\*'r\", ' are ', all_str)\n",
        "        all_str = re.sub(r\"\\*'m \", ' am ', all_str)\n",
        "        all_str = re.sub(r' u ', ' you ', all_str)\n",
        "        all_str = re.sub(r\" *'s \", ' is ', all_str)\n",
        "        all_str = re.sub(r' b ', ' be ', all_str)\n",
        "        all_str = re.sub(r' hv ', ' have ', all_str)\n",
        "        all_str = re.sub(r' bt ', ' but ', all_str)\n",
        "        all_str = re.sub(r' ur ', ' your ', all_str)\n",
        "        all_str = re.sub(r' n ', ' and ', all_str)\n",
        "        all_str = re.sub(r\" *n't \" , ' not ', all_str)\n",
        "        all_str = re.sub(r' bro ', ' brother ', all_str)\n",
        "        all_str = re.sub(r' it(z)+ ', ' it\\'s ', all_str)\n",
        "        all_str = re.sub(r' btw ', ' by the way ', all_str)\n",
        "        comment.append(all_str)\n",
        "  return comment\n"
      ],
      "execution_count": 0,
      "outputs": []
    },
    {
      "cell_type": "markdown",
      "metadata": {
        "id": "PcFQ6bEdnpAr",
        "colab_type": "text"
      },
      "source": [
        "# **removing stop words and lemmetizing**"
      ]
    },
    {
      "cell_type": "code",
      "metadata": {
        "id": "-CpezgFZEgIN",
        "colab_type": "code",
        "colab": {}
      },
      "source": [
        "\n",
        "\n",
        "stop_words = set(stopwords.words('english'))\n",
        "lem = WordNetLemmatizer() \n",
        "\n",
        "\n",
        "def _remove_noise(input_text):\n",
        "    print(input_text)\n",
        "    comment=[]\n",
        "    word=[]\n",
        "    stop_free_text=[]\n",
        "    \n",
        "    for i in range(len(input_text)):\n",
        "            word_tokens = word_tokenize(input_text[i])\n",
        "            #print('list and tokens\\n',input_text[i],'\\n',word_tokens)\n",
        "            for w in word_tokens: \n",
        "              if w not in stop_words:\n",
        "                    #print('not stop word\\n',w)\n",
        "                    lemma=lem.lemmatize(w, pos=\"v\")\n",
        "                    word.append(lemma)\n",
        "                    #print('lemmitized word:\\n',word)\n",
        "                    sentence=' '.join(word)\n",
        "                    #print('sentence\\n',sentence)\n",
        "            comment.append(sentence)\n",
        "            word.clear()\n",
        "           \n",
        "    \n",
        "    return comment \n",
        "\n"
      ],
      "execution_count": 0,
      "outputs": []
    },
    {
      "cell_type": "code",
      "metadata": {
        "id": "B4WnAwB6loXe",
        "colab_type": "code",
        "colab": {}
      },
      "source": [
        "def detect_language(all_comment):\n",
        "    \n",
        "    eng_comm=[]\n",
        "    from langdetect import detect\n",
        "    for x in all_comment:\n",
        "      try:\n",
        "       check=detect(x)\n",
        "       if check=='en':\n",
        "         eng_comm.append(x)\n",
        "       else:\n",
        "         eng_comm.append('')\n",
        "      except:\n",
        "        eng_comm.append('')\n",
        "         \n",
        "    return eng_comm\n",
        "\n",
        "    "
      ],
      "execution_count": 0,
      "outputs": []
    },
    {
      "cell_type": "code",
      "metadata": {
        "id": "XTnxXHIiilG1",
        "colab_type": "code",
        "outputId": "44135925-e9d8-4ded-f90e-006208e3b809",
        "colab": {
          "base_uri": "https://localhost:8080/",
          "height": 1000
        }
      },
      "source": [
        "\n",
        "train_data['comment_text']=detect_language(train_data['comment_text'])\n",
        "print(train_data['comment_text'])\n",
        "train_data['comment_text'].replace('', np.nan, inplace=True)\n",
        "train_data.dropna(subset=['comment_text'], inplace=True)\n",
        "train_data.reset_index(inplace=True)\n",
        "print('remove all other language\\ns',train_data)\n",
        "train_data['comment_text']=contradiction(train_data['comment_text'])\n",
        "print('Contradiction\\n',train_data['comment_text'])\n",
        "train_data['comment_text']=clean_data(train_data['comment_text'])\n",
        "print('removed punctuation\\n',train_data['comment_text'])\n",
        "train_data['comment_text']=spell_checker(train_data['comment_text'])\n",
        "print('Corrected spelling\\n',train_data['comment_text'])\n",
        "train_data['comment_text']=_remove_noise(train_data['comment_text'])\n",
        "print('removed stop words\\n',train_data['comment_text'])\n"
      ],
      "execution_count": 0,
      "outputs": [
        {
          "output_type": "stream",
          "text": [
            "/usr/local/lib/python3.6/dist-packages/ipykernel_launcher.py:2: SettingWithCopyWarning: \n",
            "A value is trying to be set on a copy of a slice from a DataFrame.\n",
            "Try using .loc[row_indexer,col_indexer] = value instead\n",
            "\n",
            "See the caveats in the documentation: https://pandas.pydata.org/pandas-docs/stable/user_guide/indexing.html#returning-a-view-versus-a-copy\n",
            "  \n",
            "/usr/local/lib/python3.6/dist-packages/pandas/core/generic.py:6746: SettingWithCopyWarning: \n",
            "A value is trying to be set on a copy of a slice from a DataFrame\n",
            "\n",
            "See the caveats in the documentation: https://pandas.pydata.org/pandas-docs/stable/user_guide/indexing.html#returning-a-view-versus-a-copy\n",
            "  self._update_inplace(new_data)\n",
            "/usr/local/lib/python3.6/dist-packages/ipykernel_launcher.py:5: SettingWithCopyWarning: \n",
            "A value is trying to be set on a copy of a slice from a DataFrame\n",
            "\n",
            "See the caveats in the documentation: https://pandas.pydata.org/pandas-docs/stable/user_guide/indexing.html#returning-a-view-versus-a-copy\n",
            "  \"\"\"\n",
            "/usr/local/lib/python3.6/dist-packages/ipykernel_launcher.py:8: SettingWithCopyWarning: \n",
            "A value is trying to be set on a copy of a slice from a DataFrame.\n",
            "Try using .loc[row_indexer,col_indexer] = value instead\n",
            "\n",
            "See the caveats in the documentation: https://pandas.pydata.org/pandas-docs/stable/user_guide/indexing.html#returning-a-view-versus-a-copy\n",
            "  \n"
          ],
          "name": "stderr"
        },
        {
          "output_type": "stream",
          "text": [
            "0      Explanation\\nWhy the edits made under my usern...\n",
            "1      D'aww! He matches this background colour I'm s...\n",
            "2      Hey man, I'm really not trying to edit war. It...\n",
            "3      \"\\nMore\\nI can't make any real suggestions on ...\n",
            "4      You, sir, are my hero. Any chance you remember...\n",
            "                             ...                        \n",
            "495    Sarek of Vulcan: Unfortunately for you, you ca...\n",
            "496    Keep your chin up! Darwinism was not accepted ...\n",
            "497    \"\"\"Nazi filth\"\" is impolite  04:27, 20 Jan 200...\n",
            "498    Interesting. I checked the other case number K...\n",
            "499    The transcluded part of the GA review doesn't ...\n",
            "Name: comment_text, Length: 500, dtype: object\n",
            "remove all other language\n",
            "s      index  ... identity_hate\n",
            "0        0  ...             0\n",
            "1        1  ...             0\n",
            "2        2  ...             0\n",
            "3        3  ...             0\n",
            "4        4  ...             0\n",
            "..     ...  ...           ...\n",
            "487    495  ...             0\n",
            "488    496  ...             0\n",
            "489    497  ...             0\n",
            "490    498  ...             0\n",
            "491    499  ...             0\n",
            "\n",
            "[492 rows x 8 columns]\n",
            "Contradiction\n",
            " 0      Explanation\\nWhy the edits made under my usern...\n",
            "1      D'aww! He matches this background colour I'm s...\n",
            "2      Hey man, I'm really not trying to edit war. It...\n",
            "3      \"\\nMore\\nI ca not make any real suggestions on...\n",
            "4      You, sir, are my hero. Any chance you remember...\n",
            "                             ...                        \n",
            "487    Sarek of Vulcan: Unfortunately for you, you ca...\n",
            "488    Keep your chin up! Darwinism was not accepted ...\n",
            "489    \"\"\"Nazi filth\"\" is impolite  04:27, 20 Jan 200...\n",
            "490    Interesting. I checked the other case number K...\n",
            "491    The transcluded part of the GA review does not...\n",
            "Name: comment_text, Length: 492, dtype: object\n"
          ],
          "name": "stdout"
        },
        {
          "output_type": "stream",
          "text": [
            "/usr/local/lib/python3.6/dist-packages/ipykernel_launcher.py:10: SettingWithCopyWarning: \n",
            "A value is trying to be set on a copy of a slice from a DataFrame.\n",
            "Try using .loc[row_indexer,col_indexer] = value instead\n",
            "\n",
            "See the caveats in the documentation: https://pandas.pydata.org/pandas-docs/stable/user_guide/indexing.html#returning-a-view-versus-a-copy\n",
            "  # Remove the CWD from sys.path while we load stuff.\n"
          ],
          "name": "stderr"
        },
        {
          "output_type": "stream",
          "text": [
            "removed punctuation\n",
            " 0      explanation why the edits made under my userna...\n",
            "1      d'aww he matches this background colour i'm se...\n",
            "2      hey man i'm really not trying to edit war it i...\n",
            "3      more i ca not make any real suggestions on imp...\n",
            "4      you sir are my hero any chance you remember wh...\n",
            "                             ...                        \n",
            "487    sarek of vulcan unfortunately for you you cann...\n",
            "488    keep your chin up darwinism was not accepted o...\n",
            "489                       nazi filth is impolite jan utc\n",
            "490    interesting i checked the other case number ku...\n",
            "491    the transcluded part of the ga review does not...\n",
            "Name: comment_text, Length: 492, dtype: object\n"
          ],
          "name": "stdout"
        },
        {
          "output_type": "stream",
          "text": [
            "/usr/local/lib/python3.6/dist-packages/ipykernel_launcher.py:12: SettingWithCopyWarning: \n",
            "A value is trying to be set on a copy of a slice from a DataFrame.\n",
            "Try using .loc[row_indexer,col_indexer] = value instead\n",
            "\n",
            "See the caveats in the documentation: https://pandas.pydata.org/pandas-docs/stable/user_guide/indexing.html#returning-a-view-versus-a-copy\n",
            "  if sys.path[0] == '':\n"
          ],
          "name": "stderr"
        },
        {
          "output_type": "stream",
          "text": [
            "Corrected spelling\n",
            " 0      explanation why the edits made under my userna...\n",
            "1      d'aww he matches this background colour i'm se...\n",
            "2      hey man i'm really not trying to edit war it i...\n",
            "3      more i ca not make any real suggestions on imp...\n",
            "4      you sir are my hero any chance you remember wh...\n",
            "                             ...                        \n",
            "487    sarek of vulcan unfortunately for you you cann...\n",
            "488    keep your chin up darwinism was not accepted o...\n",
            "489                       nazi filth is impolite jan utc\n",
            "490    interesting i checked the other case number ku...\n",
            "491    the transcluded part of the ga review does not...\n",
            "Name: comment_text, Length: 492, dtype: object\n",
            "0      explanation why the edits made under my userna...\n",
            "1      d'aww he matches this background colour i'm se...\n",
            "2      hey man i'm really not trying to edit war it i...\n",
            "3      more i ca not make any real suggestions on imp...\n",
            "4      you sir are my hero any chance you remember wh...\n",
            "                             ...                        \n",
            "487    sarek of vulcan unfortunately for you you cann...\n",
            "488    keep your chin up darwinism was not accepted o...\n",
            "489                       nazi filth is impolite jan utc\n",
            "490    interesting i checked the other case number ku...\n",
            "491    the transcluded part of the ga review does not...\n",
            "Name: comment_text, Length: 492, dtype: object\n",
            "removed stop words\n",
            " 0      explanation edit make username hardcore metall...\n",
            "1      d'aww match background colour 'm seemingly sti...\n",
            "2      hey man 'm really try edit war guy constantly ...\n",
            "3      ca make real suggestions improvement wonder se...\n",
            "4                          sir hero chance remember page\n",
            "                             ...                        \n",
            "487    sarek vulcan unfortunately ban fact sarek vulc...\n",
            "488    keep chin darwinism accept overnight appear se...\n",
            "489                          nazi filth impolite jan utc\n",
            "490    interest check case number kunzang lhamo cite ...\n",
            "491    transcluded part ga review seem update main ta...\n",
            "Name: comment_text, Length: 492, dtype: object\n"
          ],
          "name": "stdout"
        },
        {
          "output_type": "stream",
          "text": [
            "/usr/local/lib/python3.6/dist-packages/ipykernel_launcher.py:14: SettingWithCopyWarning: \n",
            "A value is trying to be set on a copy of a slice from a DataFrame.\n",
            "Try using .loc[row_indexer,col_indexer] = value instead\n",
            "\n",
            "See the caveats in the documentation: https://pandas.pydata.org/pandas-docs/stable/user_guide/indexing.html#returning-a-view-versus-a-copy\n",
            "  \n"
          ],
          "name": "stderr"
        }
      ]
    },
    {
      "cell_type": "code",
      "metadata": {
        "id": "Tkbg01iKjN_d",
        "colab_type": "code",
        "outputId": "d897703e-6afd-4e0b-f660-f69b5dce6520",
        "colab": {
          "base_uri": "https://localhost:8080/",
          "height": 1000
        }
      },
      "source": [
        "\n",
        "test_data['comment_text']=detect_language(test_data['comment_text'])\n",
        "print(test_data['comment_text'])\n",
        "test_data['comment_text'].replace('', np.nan, inplace=True)\n",
        "test_data.dropna(subset=['comment_text'], inplace=True)\n",
        "test_data.reset_index(inplace=True)\n",
        "print('remove all other language\\ns',test_data)\n",
        "test_data['comment_text']=contradiction(test_data['comment_text'])\n",
        "print('Contradiction\\n',test_data['comment_text'])\n",
        "test_data['comment_text']=clean_data(test_data['comment_text'])\n",
        "print('removed punctuation\\n',test_data['comment_text'])\n",
        "test_data['comment_text']=spell_checker(test_data['comment_text'])\n",
        "print('Corrected spelling\\n',test_data['comment_text'])\n",
        "test_data['comment_text']=_remove_noise(test_data['comment_text'])\n",
        "print('removed stop words\\n',test_data['comment_text'])\n",
        "\n"
      ],
      "execution_count": 0,
      "outputs": [
        {
          "output_type": "stream",
          "text": [
            "/usr/local/lib/python3.6/dist-packages/ipykernel_launcher.py:2: SettingWithCopyWarning: \n",
            "A value is trying to be set on a copy of a slice from a DataFrame.\n",
            "Try using .loc[row_indexer,col_indexer] = value instead\n",
            "\n",
            "See the caveats in the documentation: https://pandas.pydata.org/pandas-docs/stable/user_guide/indexing.html#returning-a-view-versus-a-copy\n",
            "  \n",
            "/usr/local/lib/python3.6/dist-packages/pandas/core/generic.py:6746: SettingWithCopyWarning: \n",
            "A value is trying to be set on a copy of a slice from a DataFrame\n",
            "\n",
            "See the caveats in the documentation: https://pandas.pydata.org/pandas-docs/stable/user_guide/indexing.html#returning-a-view-versus-a-copy\n",
            "  self._update_inplace(new_data)\n",
            "/usr/local/lib/python3.6/dist-packages/ipykernel_launcher.py:5: SettingWithCopyWarning: \n",
            "A value is trying to be set on a copy of a slice from a DataFrame\n",
            "\n",
            "See the caveats in the documentation: https://pandas.pydata.org/pandas-docs/stable/user_guide/indexing.html#returning-a-view-versus-a-copy\n",
            "  \"\"\"\n",
            "/usr/local/lib/python3.6/dist-packages/ipykernel_launcher.py:8: SettingWithCopyWarning: \n",
            "A value is trying to be set on a copy of a slice from a DataFrame.\n",
            "Try using .loc[row_indexer,col_indexer] = value instead\n",
            "\n",
            "See the caveats in the documentation: https://pandas.pydata.org/pandas-docs/stable/user_guide/indexing.html#returning-a-view-versus-a-copy\n",
            "  \n"
          ],
          "name": "stderr"
        },
        {
          "output_type": "stream",
          "text": [
            "0      Yo bitch Ja Rule is more succesful then you'll...\n",
            "1      == From RfC == \\n\\n The title is fine as it is...\n",
            "2      \" \\n\\n == Sources == \\n\\n * Zawe Ashton on Lap...\n",
            "3      :If you have a look back at the source, the in...\n",
            "4              I don't anonymously edit articles at all.\n",
            "                             ...                        \n",
            "495            vivek is a bad boy \\n\\n > B.Tech graduate\n",
            "496    == hmong people only == \\n\\n      i rock for b...\n",
            "497    someone keeps editing this page and changing t...\n",
            "498    P.S. I've never seen birth and death dates for...\n",
            "499                          This dude sucks donkey dick\n",
            "Name: comment_text, Length: 500, dtype: object\n",
            "remove all other language\n",
            "s      index                id                                       comment_text\n",
            "0        0  00001cee341fdb12  Yo bitch Ja Rule is more succesful then you'll...\n",
            "1        1  0000247867823ef7  == From RfC == \\n\\n The title is fine as it is...\n",
            "2        2  00013b17ad220c46  \" \\n\\n == Sources == \\n\\n * Zawe Ashton on Lap...\n",
            "3        3  00017563c3f7919a  :If you have a look back at the source, the in...\n",
            "4        4  00017695ad8997eb          I don't anonymously edit articles at all.\n",
            "..     ...               ...                                                ...\n",
            "462    495  00cf862de0929a0d          vivek is a bad boy \\n\\n > B.Tech graduate\n",
            "463    496  00cf8932eb2dcdcc  == hmong people only == \\n\\n      i rock for b...\n",
            "464    497  00cfd946fcc6f8ed  someone keeps editing this page and changing t...\n",
            "465    498  00d06c6557280d2f  P.S. I've never seen birth and death dates for...\n",
            "466    499  00d08307c9439df8                        This dude sucks donkey dick\n",
            "\n",
            "[467 rows x 3 columns]\n",
            "Contradiction\n",
            " 0      Yo bitch Ja Rule is more succesful then you'll...\n",
            "1      == From RfC == \\n\\n The title is fine as it is...\n",
            "2      \" \\n\\n == Sources == \\n\\n * Zawe Ashton on Lap...\n",
            "3      :If you have a look back at the source, the in...\n",
            "4             I do not anonymously edit articles at all.\n",
            "                             ...                        \n",
            "462            vivek is a bad boy \\n\\n > B.Tech graduate\n",
            "463    == hmong people only == \\n\\n      i rock for b...\n",
            "464    someone keeps editing this page and changing t...\n",
            "465    P.S. I've never seen birth and death dates for...\n",
            "466                          This dude sucks donkey dick\n",
            "Name: comment_text, Length: 467, dtype: object\n"
          ],
          "name": "stdout"
        },
        {
          "output_type": "stream",
          "text": [
            "/usr/local/lib/python3.6/dist-packages/ipykernel_launcher.py:10: SettingWithCopyWarning: \n",
            "A value is trying to be set on a copy of a slice from a DataFrame.\n",
            "Try using .loc[row_indexer,col_indexer] = value instead\n",
            "\n",
            "See the caveats in the documentation: https://pandas.pydata.org/pandas-docs/stable/user_guide/indexing.html#returning-a-view-versus-a-copy\n",
            "  # Remove the CWD from sys.path while we load stuff.\n"
          ],
          "name": "stderr"
        },
        {
          "output_type": "stream",
          "text": [
            "removed punctuation\n",
            " 0      yo bitch ja rule is more succesful then you'll...\n",
            "1                from rfc the title is fine as it is imo\n",
            "2                       sources zawe ashton on lapland —\n",
            "3      if you have a look back at the source the info...\n",
            "4              i do not anonymously edit articles at all\n",
            "                             ...                        \n",
            "462                    vivek is a bad boy btech graduate\n",
            "463    hmong people only i rock for being hmong ameri...\n",
            "464    someone keeps editing this page and changing t...\n",
            "465    ps i've never seen birth and death dates forma...\n",
            "466                          this dude sucks donkey dick\n",
            "Name: comment_text, Length: 467, dtype: object\n"
          ],
          "name": "stdout"
        },
        {
          "output_type": "stream",
          "text": [
            "/usr/local/lib/python3.6/dist-packages/ipykernel_launcher.py:12: SettingWithCopyWarning: \n",
            "A value is trying to be set on a copy of a slice from a DataFrame.\n",
            "Try using .loc[row_indexer,col_indexer] = value instead\n",
            "\n",
            "See the caveats in the documentation: https://pandas.pydata.org/pandas-docs/stable/user_guide/indexing.html#returning-a-view-versus-a-copy\n",
            "  if sys.path[0] == '':\n"
          ],
          "name": "stderr"
        },
        {
          "output_type": "stream",
          "text": [
            "Corrected spelling\n",
            " 0      yo bitch ja rule is more succesful then you'll...\n",
            "1                from rfc the title is fine as it is imo\n",
            "2                       sources zawe ashton on lapland —\n",
            "3      if you have a look back at the source the info...\n",
            "4              i do not anonymously edit articles at all\n",
            "                             ...                        \n",
            "462                    vivek is a bad boy btech graduate\n",
            "463    hmong people only i rock for being hmong ameri...\n",
            "464    someone keeps editing this page and changing t...\n",
            "465    ps i've never seen birth and death dates forma...\n",
            "466                          this dude sucks donkey dick\n",
            "Name: comment_text, Length: 467, dtype: object\n",
            "0      yo bitch ja rule is more succesful then you'll...\n",
            "1                from rfc the title is fine as it is imo\n",
            "2                       sources zawe ashton on lapland —\n",
            "3      if you have a look back at the source the info...\n",
            "4              i do not anonymously edit articles at all\n",
            "                             ...                        \n",
            "462                    vivek is a bad boy btech graduate\n",
            "463    hmong people only i rock for being hmong ameri...\n",
            "464    someone keeps editing this page and changing t...\n",
            "465    ps i've never seen birth and death dates forma...\n",
            "466                          this dude sucks donkey dick\n",
            "Name: comment_text, Length: 467, dtype: object\n",
            "removed stop words\n",
            " 0      yo bitch ja rule succesful 'll ever whats hat ...\n",
            "1                                     rfc title fine imo\n",
            "2                           source zawe ashton lapland —\n",
            "3      look back source information update correct fo...\n",
            "4                               anonymously edit article\n",
            "                             ...                        \n",
            "462                         vivek bad boy btech graduate\n",
            "463    hmong people rock hmong american people really...\n",
            "464    someone keep edit page change track list corre...\n",
            "465    ps 've never see birth death date format way g...\n",
            "466                                dude suck donkey dick\n",
            "Name: comment_text, Length: 467, dtype: object\n"
          ],
          "name": "stdout"
        },
        {
          "output_type": "stream",
          "text": [
            "/usr/local/lib/python3.6/dist-packages/ipykernel_launcher.py:14: SettingWithCopyWarning: \n",
            "A value is trying to be set on a copy of a slice from a DataFrame.\n",
            "Try using .loc[row_indexer,col_indexer] = value instead\n",
            "\n",
            "See the caveats in the documentation: https://pandas.pydata.org/pandas-docs/stable/user_guide/indexing.html#returning-a-view-versus-a-copy\n",
            "  \n"
          ],
          "name": "stderr"
        }
      ]
    },
    {
      "cell_type": "code",
      "metadata": {
        "id": "oEdftoGg5F0T",
        "colab_type": "code",
        "colab": {}
      },
      "source": [
        "train_label=train_data.drop(['comment_text','index',],axis=1)"
      ],
      "execution_count": 0,
      "outputs": []
    },
    {
      "cell_type": "code",
      "metadata": {
        "id": "vCjdf_nMkT1S",
        "colab_type": "code",
        "outputId": "a31ad4c9-abad-464b-ab75-e3cb8b444e1f",
        "colab": {
          "base_uri": "https://localhost:8080/",
          "height": 407
        }
      },
      "source": [
        "train_label\n"
      ],
      "execution_count": 0,
      "outputs": [
        {
          "output_type": "execute_result",
          "data": {
            "text/html": [
              "<div>\n",
              "<style scoped>\n",
              "    .dataframe tbody tr th:only-of-type {\n",
              "        vertical-align: middle;\n",
              "    }\n",
              "\n",
              "    .dataframe tbody tr th {\n",
              "        vertical-align: top;\n",
              "    }\n",
              "\n",
              "    .dataframe thead th {\n",
              "        text-align: right;\n",
              "    }\n",
              "</style>\n",
              "<table border=\"1\" class=\"dataframe\">\n",
              "  <thead>\n",
              "    <tr style=\"text-align: right;\">\n",
              "      <th></th>\n",
              "      <th>toxic</th>\n",
              "      <th>severe_toxic</th>\n",
              "      <th>obscene</th>\n",
              "      <th>threat</th>\n",
              "      <th>insult</th>\n",
              "      <th>identity_hate</th>\n",
              "    </tr>\n",
              "  </thead>\n",
              "  <tbody>\n",
              "    <tr>\n",
              "      <th>0</th>\n",
              "      <td>0</td>\n",
              "      <td>0</td>\n",
              "      <td>0</td>\n",
              "      <td>0</td>\n",
              "      <td>0</td>\n",
              "      <td>0</td>\n",
              "    </tr>\n",
              "    <tr>\n",
              "      <th>1</th>\n",
              "      <td>0</td>\n",
              "      <td>0</td>\n",
              "      <td>0</td>\n",
              "      <td>0</td>\n",
              "      <td>0</td>\n",
              "      <td>0</td>\n",
              "    </tr>\n",
              "    <tr>\n",
              "      <th>2</th>\n",
              "      <td>0</td>\n",
              "      <td>0</td>\n",
              "      <td>0</td>\n",
              "      <td>0</td>\n",
              "      <td>0</td>\n",
              "      <td>0</td>\n",
              "    </tr>\n",
              "    <tr>\n",
              "      <th>3</th>\n",
              "      <td>0</td>\n",
              "      <td>0</td>\n",
              "      <td>0</td>\n",
              "      <td>0</td>\n",
              "      <td>0</td>\n",
              "      <td>0</td>\n",
              "    </tr>\n",
              "    <tr>\n",
              "      <th>4</th>\n",
              "      <td>0</td>\n",
              "      <td>0</td>\n",
              "      <td>0</td>\n",
              "      <td>0</td>\n",
              "      <td>0</td>\n",
              "      <td>0</td>\n",
              "    </tr>\n",
              "    <tr>\n",
              "      <th>...</th>\n",
              "      <td>...</td>\n",
              "      <td>...</td>\n",
              "      <td>...</td>\n",
              "      <td>...</td>\n",
              "      <td>...</td>\n",
              "      <td>...</td>\n",
              "    </tr>\n",
              "    <tr>\n",
              "      <th>487</th>\n",
              "      <td>0</td>\n",
              "      <td>0</td>\n",
              "      <td>0</td>\n",
              "      <td>0</td>\n",
              "      <td>0</td>\n",
              "      <td>0</td>\n",
              "    </tr>\n",
              "    <tr>\n",
              "      <th>488</th>\n",
              "      <td>0</td>\n",
              "      <td>0</td>\n",
              "      <td>0</td>\n",
              "      <td>0</td>\n",
              "      <td>0</td>\n",
              "      <td>0</td>\n",
              "    </tr>\n",
              "    <tr>\n",
              "      <th>489</th>\n",
              "      <td>1</td>\n",
              "      <td>0</td>\n",
              "      <td>0</td>\n",
              "      <td>0</td>\n",
              "      <td>1</td>\n",
              "      <td>0</td>\n",
              "    </tr>\n",
              "    <tr>\n",
              "      <th>490</th>\n",
              "      <td>0</td>\n",
              "      <td>0</td>\n",
              "      <td>0</td>\n",
              "      <td>0</td>\n",
              "      <td>0</td>\n",
              "      <td>0</td>\n",
              "    </tr>\n",
              "    <tr>\n",
              "      <th>491</th>\n",
              "      <td>0</td>\n",
              "      <td>0</td>\n",
              "      <td>0</td>\n",
              "      <td>0</td>\n",
              "      <td>0</td>\n",
              "      <td>0</td>\n",
              "    </tr>\n",
              "  </tbody>\n",
              "</table>\n",
              "<p>492 rows × 6 columns</p>\n",
              "</div>"
            ],
            "text/plain": [
              "     toxic  severe_toxic  obscene  threat  insult  identity_hate\n",
              "0        0             0        0       0       0              0\n",
              "1        0             0        0       0       0              0\n",
              "2        0             0        0       0       0              0\n",
              "3        0             0        0       0       0              0\n",
              "4        0             0        0       0       0              0\n",
              "..     ...           ...      ...     ...     ...            ...\n",
              "487      0             0        0       0       0              0\n",
              "488      0             0        0       0       0              0\n",
              "489      1             0        0       0       1              0\n",
              "490      0             0        0       0       0              0\n",
              "491      0             0        0       0       0              0\n",
              "\n",
              "[492 rows x 6 columns]"
            ]
          },
          "metadata": {
            "tags": []
          },
          "execution_count": 32
        }
      ]
    },
    {
      "cell_type": "markdown",
      "metadata": {
        "id": "ZGB_9QTBCM5C",
        "colab_type": "text"
      },
      "source": [
        "# **Resampling**"
      ]
    },
    {
      "cell_type": "code",
      "metadata": {
        "id": "LMQgVAbiONcS",
        "colab_type": "code",
        "outputId": "11008524-c280-4bf4-fdf3-eebd607d15ae",
        "colab": {
          "base_uri": "https://localhost:8080/",
          "height": 55
        }
      },
      "source": [
        "from sklearn.model_selection import train_test_split\n",
        "from sklearn.utils import resample\n",
        "#split data into test and training sets\n",
        "X_train, X_test, y_train, y_test = train_test_split( train_data['comment_text'], train_label, test_size=0.20, random_state=42)\n",
        "#combine them back for resampling\n",
        "train_info = pd.concat([X_train, y_train], axis=1)\n",
        "# separate minority and majority classes\n",
        "negative = train_info[train_info.threat==0]\n",
        "positive = train_info[train_info.threat==1]\n",
        "# upsample minority\n",
        "pos_upsampled = resample(positive,replace=True, # sample with replacement\n",
        "                         n_samples=len(negative), # match number in majority class\n",
        "                         random_state=27) # reproducible results\n",
        "# combine majority and upsampled minority\n",
        "upsampled = pd.concat([negative, pos_upsampled])\n",
        "\n",
        "negative = upsampled[upsampled.severe_toxic==0]\n",
        "positive = upsampled[upsampled.severe_toxic==1]\n",
        "\n",
        "pos_upsampled = resample(positive,replace=True, # sample with replacement\n",
        "                         n_samples=len(negative), # match number in majority class\n",
        "                         random_state=27) # reproducible results\n",
        "upsampled = pd.concat([negative, pos_upsampled])\n",
        "# check new class counts\n",
        "upsampled.threat.value_counts()\n",
        "'''from imblearn.over_sampling import SMOTE\n",
        "\n",
        "# setting up testing and training sets\n",
        "X_train, X_test, y_train, y_test = train_test_split(train_comment, train_label, test_size=0.25, random_state=27)\n",
        "sm = SMOTE(random_state=27, ratio=1.0)\n",
        "X_train, y_train = sm.fit_sample(X_train, y_train)\n",
        "X_train.shape, y_train.shape'''\n",
        "\n"
      ],
      "execution_count": 0,
      "outputs": [
        {
          "output_type": "execute_result",
          "data": {
            "text/plain": [
              "'from imblearn.over_sampling import SMOTE\\n\\n# setting up testing and training sets\\nX_train, X_test, y_train, y_test = train_test_split(train_comment, train_label, test_size=0.25, random_state=27)\\nsm = SMOTE(random_state=27, ratio=1.0)\\nX_train, y_train = sm.fit_sample(X_train, y_train)\\nX_train.shape, y_train.shape'"
            ]
          },
          "metadata": {
            "tags": []
          },
          "execution_count": 33
        }
      ]
    },
    {
      "cell_type": "code",
      "metadata": {
        "id": "wvVl_T3HIYeM",
        "colab_type": "code",
        "outputId": "af54cb83-68b4-43fb-9e0d-797952478733",
        "colab": {
          "base_uri": "https://localhost:8080/",
          "height": 345
        }
      },
      "source": [
        "print(upsampled['toxic'].value_counts())\n",
        "print(upsampled['severe_toxic'].value_counts())\n",
        "print(upsampled['obscene'].value_counts())\n",
        "print(upsampled['threat'].value_counts())\n",
        "print(upsampled['insult'].value_counts())\n",
        "print(upsampled['identity_hate'].value_counts())\n"
      ],
      "execution_count": 0,
      "outputs": [
        {
          "output_type": "stream",
          "text": [
            "1    1203\n",
            "0     359\n",
            "Name: toxic, dtype: int64\n",
            "1    781\n",
            "0    781\n",
            "Name: severe_toxic, dtype: int64\n",
            "1    1189\n",
            "0     373\n",
            "Name: obscene, dtype: int64\n",
            "0    1170\n",
            "1     392\n",
            "Name: threat, dtype: int64\n",
            "1    1187\n",
            "0     375\n",
            "Name: insult, dtype: int64\n",
            "0    1166\n",
            "1     396\n",
            "Name: identity_hate, dtype: int64\n"
          ],
          "name": "stdout"
        }
      ]
    },
    {
      "cell_type": "code",
      "metadata": {
        "id": "ccY1FVM1iq_P",
        "colab_type": "code",
        "outputId": "626389e2-591d-4e5f-9b40-0a0764aff0e3",
        "colab": {
          "base_uri": "https://localhost:8080/",
          "height": 407
        }
      },
      "source": [
        "upsampled"
      ],
      "execution_count": 0,
      "outputs": [
        {
          "output_type": "execute_result",
          "data": {
            "text/html": [
              "<div>\n",
              "<style scoped>\n",
              "    .dataframe tbody tr th:only-of-type {\n",
              "        vertical-align: middle;\n",
              "    }\n",
              "\n",
              "    .dataframe tbody tr th {\n",
              "        vertical-align: top;\n",
              "    }\n",
              "\n",
              "    .dataframe thead th {\n",
              "        text-align: right;\n",
              "    }\n",
              "</style>\n",
              "<table border=\"1\" class=\"dataframe\">\n",
              "  <thead>\n",
              "    <tr style=\"text-align: right;\">\n",
              "      <th></th>\n",
              "      <th>comment_text</th>\n",
              "      <th>toxic</th>\n",
              "      <th>severe_toxic</th>\n",
              "      <th>obscene</th>\n",
              "      <th>threat</th>\n",
              "      <th>insult</th>\n",
              "      <th>identity_hate</th>\n",
              "    </tr>\n",
              "  </thead>\n",
              "  <tbody>\n",
              "    <tr>\n",
              "      <th>377</th>\n",
              "      <td>ho ho ho merry christmas shoulda know picciril...</td>\n",
              "      <td>0</td>\n",
              "      <td>0</td>\n",
              "      <td>0</td>\n",
              "      <td>0</td>\n",
              "      <td>0</td>\n",
              "      <td>0</td>\n",
              "    </tr>\n",
              "    <tr>\n",
              "      <th>124</th>\n",
              "      <td>ok finish plan cleanup todo page entries remov...</td>\n",
              "      <td>0</td>\n",
              "      <td>0</td>\n",
              "      <td>0</td>\n",
              "      <td>0</td>\n",
              "      <td>0</td>\n",
              "      <td>0</td>\n",
              "    </tr>\n",
              "    <tr>\n",
              "      <th>419</th>\n",
              "      <td>mark nutley suggest instead people edit war re...</td>\n",
              "      <td>0</td>\n",
              "      <td>0</td>\n",
              "      <td>0</td>\n",
              "      <td>0</td>\n",
              "      <td>0</td>\n",
              "      <td>0</td>\n",
              "    </tr>\n",
              "    <tr>\n",
              "      <th>417</th>\n",
              "      <td>quote hoppe first detail kinsella important po...</td>\n",
              "      <td>0</td>\n",
              "      <td>0</td>\n",
              "      <td>0</td>\n",
              "      <td>0</td>\n",
              "      <td>0</td>\n",
              "      <td>0</td>\n",
              "    </tr>\n",
              "    <tr>\n",
              "      <th>25</th>\n",
              "      <td>need apologize wikipedia article make reconcil...</td>\n",
              "      <td>0</td>\n",
              "      <td>0</td>\n",
              "      <td>0</td>\n",
              "      <td>0</td>\n",
              "      <td>0</td>\n",
              "      <td>0</td>\n",
              "    </tr>\n",
              "    <tr>\n",
              "      <th>...</th>\n",
              "      <td>...</td>\n",
              "      <td>...</td>\n",
              "      <td>...</td>\n",
              "      <td>...</td>\n",
              "      <td>...</td>\n",
              "      <td>...</td>\n",
              "      <td>...</td>\n",
              "    </tr>\n",
              "    <tr>\n",
              "      <th>6</th>\n",
              "      <td>cocksucker piss around work</td>\n",
              "      <td>1</td>\n",
              "      <td>1</td>\n",
              "      <td>1</td>\n",
              "      <td>0</td>\n",
              "      <td>1</td>\n",
              "      <td>0</td>\n",
              "    </tr>\n",
              "    <tr>\n",
              "      <th>54</th>\n",
              "      <td>stupid peace shit stop delete stuff asshole go...</td>\n",
              "      <td>1</td>\n",
              "      <td>1</td>\n",
              "      <td>1</td>\n",
              "      <td>0</td>\n",
              "      <td>1</td>\n",
              "      <td>0</td>\n",
              "    </tr>\n",
              "    <tr>\n",
              "      <th>176</th>\n",
              "      <td>stupid fuck mother cunt stink</td>\n",
              "      <td>1</td>\n",
              "      <td>1</td>\n",
              "      <td>1</td>\n",
              "      <td>0</td>\n",
              "      <td>1</td>\n",
              "      <td>0</td>\n",
              "    </tr>\n",
              "    <tr>\n",
              "      <th>54</th>\n",
              "      <td>stupid peace shit stop delete stuff asshole go...</td>\n",
              "      <td>1</td>\n",
              "      <td>1</td>\n",
              "      <td>1</td>\n",
              "      <td>0</td>\n",
              "      <td>1</td>\n",
              "      <td>0</td>\n",
              "    </tr>\n",
              "    <tr>\n",
              "      <th>176</th>\n",
              "      <td>stupid fuck mother cunt stink</td>\n",
              "      <td>1</td>\n",
              "      <td>1</td>\n",
              "      <td>1</td>\n",
              "      <td>0</td>\n",
              "      <td>1</td>\n",
              "      <td>0</td>\n",
              "    </tr>\n",
              "  </tbody>\n",
              "</table>\n",
              "<p>1562 rows × 7 columns</p>\n",
              "</div>"
            ],
            "text/plain": [
              "                                          comment_text  ...  identity_hate\n",
              "377  ho ho ho merry christmas shoulda know picciril...  ...              0\n",
              "124  ok finish plan cleanup todo page entries remov...  ...              0\n",
              "419  mark nutley suggest instead people edit war re...  ...              0\n",
              "417  quote hoppe first detail kinsella important po...  ...              0\n",
              "25   need apologize wikipedia article make reconcil...  ...              0\n",
              "..                                                 ...  ...            ...\n",
              "6                          cocksucker piss around work  ...              0\n",
              "54   stupid peace shit stop delete stuff asshole go...  ...              0\n",
              "176                      stupid fuck mother cunt stink  ...              0\n",
              "54   stupid peace shit stop delete stuff asshole go...  ...              0\n",
              "176                      stupid fuck mother cunt stink  ...              0\n",
              "\n",
              "[1562 rows x 7 columns]"
            ]
          },
          "metadata": {
            "tags": []
          },
          "execution_count": 35
        }
      ]
    },
    {
      "cell_type": "code",
      "metadata": {
        "id": "6e8qb7xTazFI",
        "colab_type": "code",
        "colab": {}
      },
      "source": [
        "pickle_out = open(\"resample_train.pickle\",\"wb\")\n",
        "pickle.dump(upsampled, pickle_out)\n",
        "pickle_out.close()"
      ],
      "execution_count": 0,
      "outputs": []
    },
    {
      "cell_type": "code",
      "metadata": {
        "id": "kiWb7P0SgIHQ",
        "colab_type": "code",
        "colab": {}
      },
      "source": [
        "pickle_out = open(\"test.pickle\",\"wb\")\n",
        "pickle.dump(test_data['comment_text'], pickle_out)\n",
        "pickle_out.close()"
      ],
      "execution_count": 0,
      "outputs": []
    },
    {
      "cell_type": "markdown",
      "metadata": {
        "id": "VIwDfGIWbHAe",
        "colab_type": "text"
      },
      "source": [
        "# **load from pickel file**"
      ]
    },
    {
      "cell_type": "code",
      "metadata": {
        "id": "Xb3wrlKqbFPq",
        "colab_type": "code",
        "colab": {}
      },
      "source": [
        "pickle_in = open(\"resample_train.pickle\", \"rb\")\n",
        "unsampled = pickle.load(pickle_in)\n",
        "pickle_in = open(\"test.pickle\", \"rb\")\n",
        "test_comm = pickle.load(pickle_in)"
      ],
      "execution_count": 0,
      "outputs": []
    },
    {
      "cell_type": "code",
      "metadata": {
        "id": "sNUjrsVE73C6",
        "colab_type": "code",
        "outputId": "c48d9308-0ac5-4a7a-8c07-5e0616f89485",
        "colab": {
          "base_uri": "https://localhost:8080/",
          "height": 72
        }
      },
      "source": [
        "unsampled['identity_hate'].value_counts()"
      ],
      "execution_count": 0,
      "outputs": [
        {
          "output_type": "execute_result",
          "data": {
            "text/plain": [
              "0    1166\n",
              "1     396\n",
              "Name: identity_hate, dtype: int64"
            ]
          },
          "metadata": {
            "tags": []
          },
          "execution_count": 39
        }
      ]
    },
    {
      "cell_type": "code",
      "metadata": {
        "id": "f_hxh4ddh7Gv",
        "colab_type": "code",
        "outputId": "4d3d12b0-e7f4-463a-f3cc-bab64ce56304",
        "colab": {
          "base_uri": "https://localhost:8080/",
          "height": 235
        }
      },
      "source": [
        "upsampled['identity_hate'].value_counts()\n",
        "test_comm"
      ],
      "execution_count": 0,
      "outputs": [
        {
          "output_type": "execute_result",
          "data": {
            "text/plain": [
              "0      yo bitch ja rule succesful 'll ever whats hat ...\n",
              "1                                     rfc title fine imo\n",
              "2                           source zawe ashton lapland —\n",
              "3      look back source information update correct fo...\n",
              "4                               anonymously edit article\n",
              "                             ...                        \n",
              "462                         vivek bad boy btech graduate\n",
              "463    hmong people rock hmong american people really...\n",
              "464    someone keep edit page change track list corre...\n",
              "465    ps 've never see birth death date format way g...\n",
              "466                                dude suck donkey dick\n",
              "Name: comment_text, Length: 467, dtype: object"
            ]
          },
          "metadata": {
            "tags": []
          },
          "execution_count": 40
        }
      ]
    },
    {
      "cell_type": "code",
      "metadata": {
        "id": "YhTGlrcn9NDM",
        "colab_type": "code",
        "outputId": "bd14864f-e17d-413c-8c07-30f237b8c711",
        "colab": {
          "base_uri": "https://localhost:8080/",
          "height": 407
        }
      },
      "source": [
        "\n",
        "#upsampled.reset_index(inplace=True)\n",
        "train_label=unsampled.drop(['comment_text'],axis=1)\n",
        "train_label\n"
      ],
      "execution_count": 0,
      "outputs": [
        {
          "output_type": "execute_result",
          "data": {
            "text/html": [
              "<div>\n",
              "<style scoped>\n",
              "    .dataframe tbody tr th:only-of-type {\n",
              "        vertical-align: middle;\n",
              "    }\n",
              "\n",
              "    .dataframe tbody tr th {\n",
              "        vertical-align: top;\n",
              "    }\n",
              "\n",
              "    .dataframe thead th {\n",
              "        text-align: right;\n",
              "    }\n",
              "</style>\n",
              "<table border=\"1\" class=\"dataframe\">\n",
              "  <thead>\n",
              "    <tr style=\"text-align: right;\">\n",
              "      <th></th>\n",
              "      <th>toxic</th>\n",
              "      <th>severe_toxic</th>\n",
              "      <th>obscene</th>\n",
              "      <th>threat</th>\n",
              "      <th>insult</th>\n",
              "      <th>identity_hate</th>\n",
              "    </tr>\n",
              "  </thead>\n",
              "  <tbody>\n",
              "    <tr>\n",
              "      <th>377</th>\n",
              "      <td>0</td>\n",
              "      <td>0</td>\n",
              "      <td>0</td>\n",
              "      <td>0</td>\n",
              "      <td>0</td>\n",
              "      <td>0</td>\n",
              "    </tr>\n",
              "    <tr>\n",
              "      <th>124</th>\n",
              "      <td>0</td>\n",
              "      <td>0</td>\n",
              "      <td>0</td>\n",
              "      <td>0</td>\n",
              "      <td>0</td>\n",
              "      <td>0</td>\n",
              "    </tr>\n",
              "    <tr>\n",
              "      <th>419</th>\n",
              "      <td>0</td>\n",
              "      <td>0</td>\n",
              "      <td>0</td>\n",
              "      <td>0</td>\n",
              "      <td>0</td>\n",
              "      <td>0</td>\n",
              "    </tr>\n",
              "    <tr>\n",
              "      <th>417</th>\n",
              "      <td>0</td>\n",
              "      <td>0</td>\n",
              "      <td>0</td>\n",
              "      <td>0</td>\n",
              "      <td>0</td>\n",
              "      <td>0</td>\n",
              "    </tr>\n",
              "    <tr>\n",
              "      <th>25</th>\n",
              "      <td>0</td>\n",
              "      <td>0</td>\n",
              "      <td>0</td>\n",
              "      <td>0</td>\n",
              "      <td>0</td>\n",
              "      <td>0</td>\n",
              "    </tr>\n",
              "    <tr>\n",
              "      <th>...</th>\n",
              "      <td>...</td>\n",
              "      <td>...</td>\n",
              "      <td>...</td>\n",
              "      <td>...</td>\n",
              "      <td>...</td>\n",
              "      <td>...</td>\n",
              "    </tr>\n",
              "    <tr>\n",
              "      <th>6</th>\n",
              "      <td>1</td>\n",
              "      <td>1</td>\n",
              "      <td>1</td>\n",
              "      <td>0</td>\n",
              "      <td>1</td>\n",
              "      <td>0</td>\n",
              "    </tr>\n",
              "    <tr>\n",
              "      <th>54</th>\n",
              "      <td>1</td>\n",
              "      <td>1</td>\n",
              "      <td>1</td>\n",
              "      <td>0</td>\n",
              "      <td>1</td>\n",
              "      <td>0</td>\n",
              "    </tr>\n",
              "    <tr>\n",
              "      <th>176</th>\n",
              "      <td>1</td>\n",
              "      <td>1</td>\n",
              "      <td>1</td>\n",
              "      <td>0</td>\n",
              "      <td>1</td>\n",
              "      <td>0</td>\n",
              "    </tr>\n",
              "    <tr>\n",
              "      <th>54</th>\n",
              "      <td>1</td>\n",
              "      <td>1</td>\n",
              "      <td>1</td>\n",
              "      <td>0</td>\n",
              "      <td>1</td>\n",
              "      <td>0</td>\n",
              "    </tr>\n",
              "    <tr>\n",
              "      <th>176</th>\n",
              "      <td>1</td>\n",
              "      <td>1</td>\n",
              "      <td>1</td>\n",
              "      <td>0</td>\n",
              "      <td>1</td>\n",
              "      <td>0</td>\n",
              "    </tr>\n",
              "  </tbody>\n",
              "</table>\n",
              "<p>1562 rows × 6 columns</p>\n",
              "</div>"
            ],
            "text/plain": [
              "     toxic  severe_toxic  obscene  threat  insult  identity_hate\n",
              "377      0             0        0       0       0              0\n",
              "124      0             0        0       0       0              0\n",
              "419      0             0        0       0       0              0\n",
              "417      0             0        0       0       0              0\n",
              "25       0             0        0       0       0              0\n",
              "..     ...           ...      ...     ...     ...            ...\n",
              "6        1             1        1       0       1              0\n",
              "54       1             1        1       0       1              0\n",
              "176      1             1        1       0       1              0\n",
              "54       1             1        1       0       1              0\n",
              "176      1             1        1       0       1              0\n",
              "\n",
              "[1562 rows x 6 columns]"
            ]
          },
          "metadata": {
            "tags": []
          },
          "execution_count": 41
        }
      ]
    },
    {
      "cell_type": "markdown",
      "metadata": {
        "id": "uexDq4gCCTCI",
        "colab_type": "text"
      },
      "source": [
        "# **Vectorizing using TfidfVectorizer**"
      ]
    },
    {
      "cell_type": "code",
      "metadata": {
        "id": "bgUUGEQ87DAm",
        "colab_type": "code",
        "colab": {}
      },
      "source": [
        "from sklearn.feature_extraction.text import TfidfVectorizer\n",
        "\n",
        "vectorizer = TfidfVectorizer()\n",
        "\n",
        "train_comment=vectorizer.fit_transform(unsampled['comment_text'])\n",
        "\n",
        "valid_comment=vectorizer.transform(X_test)\n",
        "\n",
        "#\n"
      ],
      "execution_count": 0,
      "outputs": []
    },
    {
      "cell_type": "code",
      "metadata": {
        "id": "z9Zd2lXdDKKk",
        "colab_type": "code",
        "colab": {}
      },
      "source": [
        "test_comment=vectorizer.transform(test_data['comment_text'])"
      ],
      "execution_count": 0,
      "outputs": []
    },
    {
      "cell_type": "code",
      "metadata": {
        "id": "Slkc2DewED6z",
        "colab_type": "code",
        "outputId": "a7e47ba1-0047-4902-8c87-d5022b0acba3",
        "colab": {
          "base_uri": "https://localhost:8080/",
          "height": 35
        }
      },
      "source": [
        "test_comment.shape"
      ],
      "execution_count": 0,
      "outputs": [
        {
          "output_type": "execute_result",
          "data": {
            "text/plain": [
              "(467, 4556)"
            ]
          },
          "metadata": {
            "tags": []
          },
          "execution_count": 57
        }
      ]
    },
    {
      "cell_type": "markdown",
      "metadata": {
        "id": "EDmpKhwAmFgr",
        "colab_type": "text"
      },
      "source": [
        "# **Model**"
      ]
    },
    {
      "cell_type": "code",
      "metadata": {
        "id": "Q7t4yupsUDti",
        "colab_type": "code",
        "colab": {}
      },
      "source": [
        "def model(X_train,y_train,valid_comment,y_test,test_comment):\n",
        "    from sklearn.naive_bayes import MultinomialNB\n",
        "    clf = MultinomialNB()\n",
        "    clf.fit(X_train,y_train)\n",
        "    prediction1=clf.predict(valid_comment)\n",
        "    prediction2=clf.predict(test_comment)\n",
        "    accuracy=clf.score(valid_comment,y_test)\n",
        "    print('accuracy',accuracy)\n",
        "    \n",
        "    return prediction1,prediction2"
      ],
      "execution_count": 0,
      "outputs": []
    },
    {
      "cell_type": "markdown",
      "metadata": {
        "id": "eQvUNgtNrVv6",
        "colab_type": "text"
      },
      "source": [
        "# **Toxic model**"
      ]
    },
    {
      "cell_type": "code",
      "metadata": {
        "id": "HE21kdTTpN8t",
        "colab_type": "code",
        "outputId": "07fa8841-4cc4-408b-c3bd-d9f37a8909e9",
        "colab": {
          "base_uri": "https://localhost:8080/",
          "height": 35
        }
      },
      "source": [
        "\n",
        "toxic_prediction,toxic_test_pred=model(train_comment,train_label['toxic'],valid_comment,y_test['toxic'],test_comment)\n",
        "\n"
      ],
      "execution_count": 0,
      "outputs": [
        {
          "output_type": "stream",
          "text": [
            "accuracy 0.8383838383838383\n"
          ],
          "name": "stdout"
        }
      ]
    },
    {
      "cell_type": "markdown",
      "metadata": {
        "id": "D4cqvsR-rYJh",
        "colab_type": "text"
      },
      "source": [
        "# **Severe toxic**"
      ]
    },
    {
      "cell_type": "code",
      "metadata": {
        "id": "tpuEH6BpDsAv",
        "colab_type": "code",
        "outputId": "dc3aaaa8-e695-4f86-9e0d-c9928dc4ffd6",
        "colab": {
          "base_uri": "https://localhost:8080/",
          "height": 35
        }
      },
      "source": [
        "\n",
        "severe_toxic_prediction,severe_toxic_test_pred=model(train_comment,train_label['severe_toxic'],valid_comment,y_test['severe_toxic'],test_comment)\n"
      ],
      "execution_count": 0,
      "outputs": [
        {
          "output_type": "stream",
          "text": [
            "accuracy 0.9797979797979798\n"
          ],
          "name": "stdout"
        }
      ]
    },
    {
      "cell_type": "markdown",
      "metadata": {
        "id": "4LkjKnRGrbyK",
        "colab_type": "text"
      },
      "source": [
        "# **Obsence model**"
      ]
    },
    {
      "cell_type": "code",
      "metadata": {
        "id": "8gfbYr_LDv5m",
        "colab_type": "code",
        "outputId": "e02f040a-47f2-4a3c-8556-99ecf851af78",
        "colab": {
          "base_uri": "https://localhost:8080/",
          "height": 35
        }
      },
      "source": [
        "\n",
        "\n",
        "obscene_prediction,obsence_test_pred=model(train_comment,train_label['obscene'],valid_comment,y_test['obscene'],test_comment)\n"
      ],
      "execution_count": 0,
      "outputs": [
        {
          "output_type": "stream",
          "text": [
            "accuracy 0.9191919191919192\n"
          ],
          "name": "stdout"
        }
      ]
    },
    {
      "cell_type": "markdown",
      "metadata": {
        "id": "IxPkif_usdVx",
        "colab_type": "text"
      },
      "source": [
        "# **Threat**"
      ]
    },
    {
      "cell_type": "code",
      "metadata": {
        "id": "kZxfdT--Dwni",
        "colab_type": "code",
        "outputId": "8f200345-6fb9-4431-ae4f-9f0ccb424aa8",
        "colab": {
          "base_uri": "https://localhost:8080/",
          "height": 35
        }
      },
      "source": [
        "\n",
        "threat_prediction,threat_test_pred=model(train_comment,train_label['threat'],valid_comment,y_test['threat'],test_comment)\n"
      ],
      "execution_count": 0,
      "outputs": [
        {
          "output_type": "stream",
          "text": [
            "accuracy 0.98989898989899\n"
          ],
          "name": "stdout"
        }
      ]
    },
    {
      "cell_type": "markdown",
      "metadata": {
        "id": "N3HCI8THshIq",
        "colab_type": "text"
      },
      "source": [
        "# **Insult**"
      ]
    },
    {
      "cell_type": "code",
      "metadata": {
        "id": "b7qrw043DxW_",
        "colab_type": "code",
        "outputId": "4d218bc3-1899-4765-ef2e-43c53e26bf13",
        "colab": {
          "base_uri": "https://localhost:8080/",
          "height": 35
        }
      },
      "source": [
        "\n",
        "insult_prediction,insult_test_pred=model(train_comment,train_label['insult'],valid_comment,y_test['insult'],test_comment)\n",
        "\n"
      ],
      "execution_count": 0,
      "outputs": [
        {
          "output_type": "stream",
          "text": [
            "accuracy 0.8888888888888888\n"
          ],
          "name": "stdout"
        }
      ]
    },
    {
      "cell_type": "markdown",
      "metadata": {
        "id": "WZHNBHlKsldT",
        "colab_type": "text"
      },
      "source": [
        "# **Identity hate**"
      ]
    },
    {
      "cell_type": "code",
      "metadata": {
        "id": "WWfsorEmDx_-",
        "colab_type": "code",
        "outputId": "aaa293ef-173d-4071-bcc4-57082a52e2be",
        "colab": {
          "base_uri": "https://localhost:8080/",
          "height": 35
        }
      },
      "source": [
        "#train_sample,validate_sample, train_label6,validate_label6=train_test_split(x_train_pad,train_label['identity_hate'], random_state=2)\n",
        "#identity_hate_model=model.fit(train_sample,train_label6,epochs=20,verbose=2,validation_split=0.2, batch_size=8)\n",
        "#identity_hate_prediction= model.predict(validate_sample, batch_size= 8, verbose=2)\n",
        "\n",
        "identity_hate_prediction,identity_hate_test_pred=model(train_comment,train_label['identity_hate'],valid_comment,y_test['identity_hate'],test_comment)\n"
      ],
      "execution_count": 0,
      "outputs": [
        {
          "output_type": "stream",
          "text": [
            "accuracy 0.98989898989899\n"
          ],
          "name": "stdout"
        }
      ]
    },
    {
      "cell_type": "markdown",
      "metadata": {
        "id": "oT_79RQIv7Ey",
        "colab_type": "text"
      },
      "source": [
        "# **average auc roc score**"
      ]
    },
    {
      "cell_type": "code",
      "metadata": {
        "id": "mnZw_JFIqfu0",
        "colab_type": "code",
        "outputId": "0ac7a20c-c98b-414c-881e-469152a3a501",
        "colab": {
          "base_uri": "https://localhost:8080/",
          "height": 35
        }
      },
      "source": [
        "from sklearn.metrics import roc_auc_score\n",
        "auc=[]\n",
        "auc.append(roc_auc_score(y_test['toxic'], toxic_prediction))\n",
        "auc.append(roc_auc_score(y_test['severe_toxic'], severe_toxic_prediction))\n",
        "auc.append(roc_auc_score(y_test['obscene'], obscene_prediction))\n",
        "auc.append(roc_auc_score(y_test['threat'], threat_prediction))\n",
        "auc.append(roc_auc_score(y_test['insult'], insult_prediction))\n",
        "auc.append(roc_auc_score(y_test['identity_hate'], identity_hate_prediction))\n",
        " \n",
        "print('average AUC', sum(auc)/len(auc))"
      ],
      "execution_count": 0,
      "outputs": [
        {
          "output_type": "stream",
          "text": [
            "average AUC 0.6935920503467088\n"
          ],
          "name": "stdout"
        }
      ]
    },
    {
      "cell_type": "code",
      "metadata": {
        "id": "4DP8zJrXmQ-I",
        "colab_type": "code",
        "colab": {}
      },
      "source": [
        ""
      ],
      "execution_count": 0,
      "outputs": []
    },
    {
      "cell_type": "markdown",
      "metadata": {
        "id": "64Hsaf-jwFgJ",
        "colab_type": "text"
      },
      "source": [
        "# **Final prediction**"
      ]
    },
    {
      "cell_type": "code",
      "metadata": {
        "id": "7eLaWy384Viy",
        "colab_type": "code",
        "colab": {}
      },
      "source": [
        "output = pd.DataFrame({'PassengerId': test_data.id, 'toxic':toxic_test_pred,\t\n",
        "                      'severe_toxic':severe_toxic_test_pred,'obscene':obsence_test_pred,\n",
        "                       'threat':threat_test_pred,\t'insult':insult_test_pred,'identity_hate':identity_hate_test_pred})\n",
        "output.to_csv('my_submission.csv', index=False)\n"
      ],
      "execution_count": 0,
      "outputs": []
    },
    {
      "cell_type": "code",
      "metadata": {
        "id": "6m2lss0BnNcz",
        "colab_type": "code",
        "outputId": "1f269f48-752c-481e-f6aa-1fa253115378",
        "colab": {
          "base_uri": "https://localhost:8080/",
          "height": 407
        }
      },
      "source": [
        "final=pd.read_csv('my_submission.csv')\n",
        "final"
      ],
      "execution_count": 0,
      "outputs": [
        {
          "output_type": "execute_result",
          "data": {
            "text/html": [
              "<div>\n",
              "<style scoped>\n",
              "    .dataframe tbody tr th:only-of-type {\n",
              "        vertical-align: middle;\n",
              "    }\n",
              "\n",
              "    .dataframe tbody tr th {\n",
              "        vertical-align: top;\n",
              "    }\n",
              "\n",
              "    .dataframe thead th {\n",
              "        text-align: right;\n",
              "    }\n",
              "</style>\n",
              "<table border=\"1\" class=\"dataframe\">\n",
              "  <thead>\n",
              "    <tr style=\"text-align: right;\">\n",
              "      <th></th>\n",
              "      <th>PassengerId</th>\n",
              "      <th>toxic</th>\n",
              "      <th>severe_toxic</th>\n",
              "      <th>obscene</th>\n",
              "      <th>threat</th>\n",
              "      <th>insult</th>\n",
              "      <th>identity_hate</th>\n",
              "    </tr>\n",
              "  </thead>\n",
              "  <tbody>\n",
              "    <tr>\n",
              "      <th>0</th>\n",
              "      <td>00001cee341fdb12</td>\n",
              "      <td>0</td>\n",
              "      <td>0</td>\n",
              "      <td>0</td>\n",
              "      <td>0</td>\n",
              "      <td>0</td>\n",
              "      <td>0</td>\n",
              "    </tr>\n",
              "    <tr>\n",
              "      <th>1</th>\n",
              "      <td>0000247867823ef7</td>\n",
              "      <td>0</td>\n",
              "      <td>0</td>\n",
              "      <td>0</td>\n",
              "      <td>0</td>\n",
              "      <td>0</td>\n",
              "      <td>0</td>\n",
              "    </tr>\n",
              "    <tr>\n",
              "      <th>2</th>\n",
              "      <td>00013b17ad220c46</td>\n",
              "      <td>0</td>\n",
              "      <td>0</td>\n",
              "      <td>0</td>\n",
              "      <td>0</td>\n",
              "      <td>0</td>\n",
              "      <td>0</td>\n",
              "    </tr>\n",
              "    <tr>\n",
              "      <th>3</th>\n",
              "      <td>00017563c3f7919a</td>\n",
              "      <td>0</td>\n",
              "      <td>0</td>\n",
              "      <td>0</td>\n",
              "      <td>0</td>\n",
              "      <td>0</td>\n",
              "      <td>0</td>\n",
              "    </tr>\n",
              "    <tr>\n",
              "      <th>4</th>\n",
              "      <td>00017695ad8997eb</td>\n",
              "      <td>0</td>\n",
              "      <td>0</td>\n",
              "      <td>0</td>\n",
              "      <td>0</td>\n",
              "      <td>0</td>\n",
              "      <td>0</td>\n",
              "    </tr>\n",
              "    <tr>\n",
              "      <th>...</th>\n",
              "      <td>...</td>\n",
              "      <td>...</td>\n",
              "      <td>...</td>\n",
              "      <td>...</td>\n",
              "      <td>...</td>\n",
              "      <td>...</td>\n",
              "      <td>...</td>\n",
              "    </tr>\n",
              "    <tr>\n",
              "      <th>462</th>\n",
              "      <td>00cf862de0929a0d</td>\n",
              "      <td>1</td>\n",
              "      <td>0</td>\n",
              "      <td>0</td>\n",
              "      <td>0</td>\n",
              "      <td>0</td>\n",
              "      <td>0</td>\n",
              "    </tr>\n",
              "    <tr>\n",
              "      <th>463</th>\n",
              "      <td>00cf8932eb2dcdcc</td>\n",
              "      <td>0</td>\n",
              "      <td>0</td>\n",
              "      <td>0</td>\n",
              "      <td>0</td>\n",
              "      <td>0</td>\n",
              "      <td>0</td>\n",
              "    </tr>\n",
              "    <tr>\n",
              "      <th>464</th>\n",
              "      <td>00cfd946fcc6f8ed</td>\n",
              "      <td>0</td>\n",
              "      <td>0</td>\n",
              "      <td>0</td>\n",
              "      <td>0</td>\n",
              "      <td>0</td>\n",
              "      <td>0</td>\n",
              "    </tr>\n",
              "    <tr>\n",
              "      <th>465</th>\n",
              "      <td>00d06c6557280d2f</td>\n",
              "      <td>0</td>\n",
              "      <td>0</td>\n",
              "      <td>0</td>\n",
              "      <td>0</td>\n",
              "      <td>0</td>\n",
              "      <td>0</td>\n",
              "    </tr>\n",
              "    <tr>\n",
              "      <th>466</th>\n",
              "      <td>00d08307c9439df8</td>\n",
              "      <td>1</td>\n",
              "      <td>0</td>\n",
              "      <td>1</td>\n",
              "      <td>0</td>\n",
              "      <td>1</td>\n",
              "      <td>0</td>\n",
              "    </tr>\n",
              "  </tbody>\n",
              "</table>\n",
              "<p>467 rows × 7 columns</p>\n",
              "</div>"
            ],
            "text/plain": [
              "          PassengerId  toxic  severe_toxic  ...  threat  insult  identity_hate\n",
              "0    00001cee341fdb12      0             0  ...       0       0              0\n",
              "1    0000247867823ef7      0             0  ...       0       0              0\n",
              "2    00013b17ad220c46      0             0  ...       0       0              0\n",
              "3    00017563c3f7919a      0             0  ...       0       0              0\n",
              "4    00017695ad8997eb      0             0  ...       0       0              0\n",
              "..                ...    ...           ...  ...     ...     ...            ...\n",
              "462  00cf862de0929a0d      1             0  ...       0       0              0\n",
              "463  00cf8932eb2dcdcc      0             0  ...       0       0              0\n",
              "464  00cfd946fcc6f8ed      0             0  ...       0       0              0\n",
              "465  00d06c6557280d2f      0             0  ...       0       0              0\n",
              "466  00d08307c9439df8      1             0  ...       0       1              0\n",
              "\n",
              "[467 rows x 7 columns]"
            ]
          },
          "metadata": {
            "tags": []
          },
          "execution_count": 78
        }
      ]
    }
  ]
}